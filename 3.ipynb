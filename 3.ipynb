{
 "cells": [
  {
   "cell_type": "markdown",
   "metadata": {},
   "source": [
    "Part 1: Working with Variables, Input, and Strings"
   ]
  },
  {
   "cell_type": "markdown",
   "metadata": {},
   "source": [
    "Prompt for user input"
   ]
  },
  {
   "cell_type": "code",
   "execution_count": 9,
   "metadata": {},
   "outputs": [
    {
     "name": "stdout",
     "output_type": "stream",
     "text": [
      "wellcome! to a new assigment\n"
     ]
    }
   ],
   "source": [
    "full_name = input(\"hassan ali mehar\")\n",
    "print(f\"wellcome{full_name}! to a new assigment\")"
   ]
  },
  {
   "cell_type": "markdown",
   "metadata": {},
   "source": [
    "String methods"
   ]
  },
  {
   "cell_type": "code",
   "execution_count": 10,
   "metadata": {},
   "outputs": [
    {
     "name": "stdout",
     "output_type": "stream",
     "text": [
      "HASSAN ALI\n",
      "hassan ali\n",
      "10\n",
      "hassan-ali\n",
      "hassan ali\n"
     ]
    }
   ],
   "source": [
    "name=(\"hassan ali\")\n",
    "print(name.upper())\n",
    "print(name.lower())\n",
    "print(len(name))\n",
    "result = name.replace(\" \", \"-\")\n",
    "print(result)\n",
    "trimmed_name = name.strip()\n",
    "print(trimmed_name)\n"
   ]
  },
  {
   "cell_type": "markdown",
   "metadata": {},
   "source": [
    "Type casting and numeric operations"
   ]
  },
  {
   "cell_type": "code",
   "execution_count": 11,
   "metadata": {},
   "outputs": [
    {
     "name": "stdout",
     "output_type": "stream",
     "text": [
      "You are approximately 19 years old.\n"
     ]
    }
   ],
   "source": [
    "# Ask the user to enter their birth year\n",
    "birth_year = input(\"Please enter your birth year: \")\n",
    "\n",
    "# Convert the input to an integer\n",
    "birth_year = int(2005)\n",
    "\n",
    "# Get the current year\n",
    "current_year = 2024\n",
    "\n",
    "# Calculate the approximate age\n",
    "age = current_year - birth_year\n",
    "\n",
    "# Print the result\n",
    "print(f\"You are approximately {age} years old.\")\n"
   ]
  },
  {
   "cell_type": "markdown",
   "metadata": {},
   "source": [
    "Part 2: Lists and Indexing\n",
    "Create a list from user input\n"
   ]
  },
  {
   "cell_type": "code",
   "execution_count": 12,
   "metadata": {},
   "outputs": [
    {
     "name": "stdout",
     "output_type": "stream",
     "text": [
      "['']\n"
     ]
    }
   ],
   "source": [
    "# Prompt the user to enter three of their favorite fruits\n",
    "fruits = input(\"Enter three of your favorite fruits, separated by commas (e.g., apple,banana,orange): \")\n",
    "\n",
    "# Split the string by commas to create a list\n",
    "fruit_list = fruits.split(',')\n",
    "\n",
    "# Print the list to verify it\n",
    "print(fruit_list)\n"
   ]
  },
  {
   "cell_type": "markdown",
   "metadata": {},
   "source": [
    "List indexing and slicing"
   ]
  },
  {
   "cell_type": "code",
   "execution_count": 13,
   "metadata": {},
   "outputs": [
    {
     "name": "stdout",
     "output_type": "stream",
     "text": [
      "apple\n",
      "elderberry\n",
      "banana\n",
      "cherry\n"
     ]
    }
   ],
   "source": [
    "fruit_list = [\"apple\", \"banana\", \"cherry\", \"date\", \"elderberry\"]\n",
    "print(fruit_list[0])  \n",
    "print(fruit_list[-1])  \n",
    "print(fruit_list[1])  \n",
    "print(fruit_list[2]) \n"
   ]
  },
  {
   "cell_type": "markdown",
   "metadata": {},
   "source": [
    "List methods"
   ]
  },
  {
   "cell_type": "code",
   "execution_count": 14,
   "metadata": {},
   "outputs": [
    {
     "name": "stdout",
     "output_type": "stream",
     "text": [
      "Updated list after append: ['apple', 'banana', 'cherry', 'grape']\n",
      "Updated list after remove: ['apple', 'cherry', 'grape']\n",
      "Length of the list: 3\n"
     ]
    }
   ],
   "source": [
    "# Initial list of fruits\n",
    "fruits = [\"apple\", \"banana\", \"cherry\"]\n",
    "\n",
    "# 1. Append a new fruit\n",
    "fruits.append(\"grape\")\n",
    "print(\"Updated list after append:\", fruits)\n",
    "\n",
    "# 2. Remove a fruit (using remove() or pop())\n",
    "fruits.remove(\"banana\")  # Removes 'banana'\n",
    "# Alternatively, you can use: fruits.pop()  # Removes the last item (default behavior)\n",
    "print(\"Updated list after remove:\", fruits)\n",
    "\n",
    "# 3. Print the length of the list\n",
    "print(\"Length of the list:\", len(fruits))\n"
   ]
  },
  {
   "cell_type": "markdown",
   "metadata": {},
   "source": [
    "\n"
   ]
  }
 ],
 "metadata": {
  "kernelspec": {
   "display_name": "Python 3",
   "language": "python",
   "name": "python3"
  },
  "language_info": {
   "codemirror_mode": {
    "name": "ipython",
    "version": 3
   },
   "file_extension": ".py",
   "mimetype": "text/x-python",
   "name": "python",
   "nbconvert_exporter": "python",
   "pygments_lexer": "ipython3",
   "version": "3.13.1"
  }
 },
 "nbformat": 4,
 "nbformat_minor": 2
}
